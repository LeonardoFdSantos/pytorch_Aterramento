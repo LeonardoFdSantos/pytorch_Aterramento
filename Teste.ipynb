{
 "cells": [
  {
   "cell_type": "code",
   "execution_count": 1,
   "metadata": {},
   "outputs": [],
   "source": [
    "import sympy as sp\n",
    "import numpy as np\n",
    "import pandas as pd\n",
    "import time\n",
    "import warnings\n",
    "import torch\n",
    "warnings.filterwarnings(\"ignore\", category=RuntimeWarning)"
   ]
  },
  {
   "cell_type": "code",
   "execution_count": 2,
   "metadata": {},
   "outputs": [],
   "source": [
    "def funF(u1, u2, A):\n",
    "  return np.log((u1 + (np.sqrt((u1)**2 +(A)**2)))/(u2 + (np.sqrt((u2)**2+(A)**2))))"
   ]
  },
  {
   "cell_type": "code",
   "execution_count": 3,
   "metadata": {},
   "outputs": [],
   "source": [
    "def funAz(x, y, x_est, y_est):\n",
    "  return np.sqrt((x - x_est)**2 + (y - y_est)**2)"
   ]
  },
  {
   "cell_type": "code",
   "execution_count": 4,
   "metadata": {},
   "outputs": [],
   "source": [
    "def FunPosicao1(tamanho_haste, passo, distancia):\n",
    "    eixo_x = np.arange(-distancia, distancia+passo, passo)\n",
    "    eixo_y = np.arange(-distancia, distancia+passo, passo)\n",
    "    eixo_z = np.linspace(-(2 * tamanho_haste), 2 * tamanho_haste, len(eixo_x))\n",
    "    # eixo_z = np.arange(-(2 * tamanho_haste + 1), 2 * tamanho_haste + 1 + passo, len(eixo_x))\n",
    "    return eixo_x, eixo_y, eixo_z"
   ]
  },
  {
   "cell_type": "code",
   "execution_count": 5,
   "metadata": {},
   "outputs": [],
   "source": [
    "def calculo_potencial(x,y,z,num_hastes,Profundidade_Injetado_Haste,reflex,K,I,posi_haste_x,posi_haste_y,profundidade_1_camada,Rho_solo1,h):\n",
    "  tensao_gerada = np.zeros((len(x), len(y), len(z), num_hastes))\n",
    "  Az = np.zeros((len(x), len(y), len(z), num_hastes))\n",
    "  f1 = np.zeros((len(x), len(y), len(z), num_hastes))\n",
    "  f2 = np.zeros((len(x), len(y), len(z), num_hastes))\n",
    "  f3 = np.zeros((len(x), len(y), len(z), num_hastes))\n",
    "  f4 = np.zeros((len(x), len(y), len(z), num_hastes))\n",
    "  for i in range(0, len(x)):\n",
    "    for j in range(0, len(y)):\n",
    "      for k in range(0, len(z)):\n",
    "        for l in range(0, num_hastes):\n",
    "          Az[i,j,k,l] = funAz(x[i], y[j], posi_haste_x[l], posi_haste_y[l]);\n",
    "          f1[i,j,k,l] = funF(profundidade_1_camada-z[k], h-z[k], Az[i,j,k,l]);\n",
    "          f2[i,j,k,l] = funF(profundidade_1_camada+z[k], h+z[k], Az[i,j,k,l]);\n",
    "          f3[i,j,k,l] = funF(h+Profundidade_Injetado_Haste-z[k], profundidade_1_camada-z[k], Az[i,j,k,l]);\n",
    "          f4[i,j,k,l] = funF(h+Profundidade_Injetado_Haste+z[k], profundidade_1_camada+z[k], Az[i,j,k,l]);\n",
    "          soma1 = 0\n",
    "          soma2 = 0\n",
    "          for cont in range(0, reflex+1):\n",
    "            f5 = funF(2*cont*profundidade_1_camada+profundidade_1_camada-z[k], 2*cont*profundidade_1_camada+h-z[k], Az[i,j,k,l])\n",
    "            f6 = funF(2*cont*profundidade_1_camada+profundidade_1_camada+z[k], 2*cont*profundidade_1_camada+h+z[k], Az[i,j,k,l])\n",
    "            f7 = funF(2*cont*profundidade_1_camada-h-z[k], 2*cont*profundidade_1_camada-profundidade_1_camada-z[k], Az[i,j,k,l])\n",
    "            f8 = funF(2*cont*profundidade_1_camada-h+z[k], 2*cont*profundidade_1_camada-profundidade_1_camada+z[k], Az[i,j,k,l])\n",
    "            f9 = funF(2*cont*profundidade_1_camada+h+Profundidade_Injetado_Haste-z[k], 2*cont*profundidade_1_camada+profundidade_1_camada-z[k], Az)\n",
    "            f10 = funF(2*cont*profundidade_1_camada+h+Profundidade_Injetado_Haste+z[k], 2*cont*profundidade_1_camada+profundidade_1_camada+z[k], Az)\n",
    "            soma1=soma1+K**cont*(f5+f6+f7+f8)\n",
    "            soma2=soma2+K**cont*(f9+f10)\n",
    "          tensao_gerada[i,j,k,l]=1/(4*np.pi*Profundidade_Injetado_Haste)*Rho_solo1*I[l]*(f1[i,j,k,l]+f2[i,j,k,l]+(1+K)*(f3[i,j,k,l]+f4[i,j,k,l])+soma1+(1+K)*(soma2))\n",
    "  return tensao_gerada"
   ]
  },
  {
   "cell_type": "code",
   "execution_count": 6,
   "metadata": {},
   "outputs": [],
   "source": [
    "def calculo_superficial(x, y, z, Vc, n):\n",
    "  Vsup = np.zeros((len(x), len(y)))\n",
    "  V = np.zeros((len(x), len(y), len(z)))\n",
    "  for i in range(0, len(x)):\n",
    "      for j in range(0, len(y)):\n",
    "          for k in range(0, len(z)):\n",
    "              for o in range(0, n):\n",
    "                  V[i, j, k] = V[i, j, k] + Vc[i, j, k, o]\n",
    "  for cont1 in range(0, len(x)):\n",
    "      for cont2 in range(0, len(y)):\n",
    "          Vsup[cont1, cont2] = V[cont1, cont2, (len(z) // 2) - 1]\n",
    "  return Vsup"
   ]
  },
  {
   "cell_type": "code",
   "execution_count": 7,
   "metadata": {},
   "outputs": [],
   "source": [
    "def modelagem_duas_camadas(rho_1_camada, profundidade_1_camada, rho_2_camada, num_hastes, tamanho_haste, reflex, h, passo, tamanho_maximo, posi_haste_x, posi_haste_y, corrente_haste):\n",
    "    # posi_haste_x = np.ndarray(num_hastes)\n",
    "    # posi_haste_y = np.ndarray(num_hastes)\n",
    "    # corrente_haste = np.ndarray(num_hastes)\n",
    "    # for temp_haste in range(0, num_hastes):\n",
    "    #         print(f'Digite a posição da haste {temp_haste + 1} no eixo X em \"m\":')\n",
    "    #         posi_haste_x[temp_haste] = float(input())\n",
    "    #         print(f'Digite a posição da haste {temp_haste + 1} no eixo Y em \"m\":')\n",
    "    #         posi_haste_y[temp_haste] = float(input())\n",
    "    #         print(f'Digite a corrente da haste {temp_haste + 1}: ')\n",
    "    #         corrente_haste[temp_haste] = float(input())\n",
    "    x, y, z = FunPosicao1(tamanho_haste, passo, tamanho_maximo)\n",
    "    K = (rho_2_camada - rho_1_camada) / (rho_2_camada + rho_1_camada)\n",
    "    tensao_solo = calculo_potencial(x, y, z, num_hastes, tamanho_haste, reflex, K, corrente_haste, posi_haste_x, posi_haste_y, profundidade_1_camada, rho_1_camada, h)\n",
    "    tensao_superficial = calculo_superficial(x, y, z, tensao_solo, num_hastes)\n",
    "    return tensao_superficial"
   ]
  },
  {
   "cell_type": "code",
   "execution_count": 8,
   "metadata": {},
   "outputs": [],
   "source": [
    "num_hastes = 1\n",
    "posi_haste_x = np.ndarray(num_hastes)\n",
    "posi_haste_y = np.ndarray(num_hastes)\n",
    "corrente_haste = np.ndarray(num_hastes)\n",
    "posi_haste_x[0] = 0.0\n",
    "posi_haste_y[0] = 0.0\n",
    "corrente_haste[0] = 10.0"
   ]
  },
  {
   "cell_type": "code",
   "execution_count": 12,
   "metadata": {},
   "outputs": [
    {
     "ename": "ValueError",
     "evalue": "setting an array element with a sequence.",
     "output_type": "error",
     "traceback": [
      "\u001b[1;31m---------------------------------------------------------------------------\u001b[0m",
      "\u001b[1;31mTypeError\u001b[0m                                 Traceback (most recent call last)",
      "\u001b[1;31mTypeError\u001b[0m: only size-1 arrays can be converted to Python scalars",
      "\nThe above exception was the direct cause of the following exception:\n",
      "\u001b[1;31mValueError\u001b[0m                                Traceback (most recent call last)",
      "\u001b[1;32md:\\Dev\\Gits\\pytorch_Aterramento\\Teste.ipynb Célula 9\u001b[0m in \u001b[0;36m2\n\u001b[0;32m      <a href='vscode-notebook-cell:/d%3A/Dev/Gits/pytorch_Aterramento/Teste.ipynb#X11sZmlsZQ%3D%3D?line=0'>1</a>\u001b[0m time1 \u001b[39m=\u001b[39m time\u001b[39m.\u001b[39mtime()\n\u001b[1;32m----> <a href='vscode-notebook-cell:/d%3A/Dev/Gits/pytorch_Aterramento/Teste.ipynb#X11sZmlsZQ%3D%3D?line=1'>2</a>\u001b[0m valores1 \u001b[39m=\u001b[39m modelagem_duas_camadas(\u001b[39m68.285\u001b[39;49m, \u001b[39m1.285\u001b[39;49m, \u001b[39m56.874\u001b[39;49m, \u001b[39m1\u001b[39;49m, \u001b[39m3\u001b[39;49m, \u001b[39m50\u001b[39;49m, \u001b[39m0\u001b[39;49m, \u001b[39m0.1\u001b[39;49m, \u001b[39m3\u001b[39;49m, posi_haste_x, posi_haste_y, corrente_haste)\n\u001b[0;32m      <a href='vscode-notebook-cell:/d%3A/Dev/Gits/pytorch_Aterramento/Teste.ipynb#X11sZmlsZQ%3D%3D?line=2'>3</a>\u001b[0m tTime1 \u001b[39m=\u001b[39m (time\u001b[39m.\u001b[39mtime() \u001b[39m-\u001b[39m time1)\n\u001b[0;32m      <a href='vscode-notebook-cell:/d%3A/Dev/Gits/pytorch_Aterramento/Teste.ipynb#X11sZmlsZQ%3D%3D?line=3'>4</a>\u001b[0m \u001b[39mprint\u001b[39m(\u001b[39m\"\u001b[39m\u001b[39mTempo 1 haste: \u001b[39m\u001b[39m\"\u001b[39m \u001b[39m+\u001b[39m \u001b[39mstr\u001b[39m(tTime1))\n",
      "\u001b[1;32md:\\Dev\\Gits\\pytorch_Aterramento\\Teste.ipynb Célula 9\u001b[0m in \u001b[0;36m1\n\u001b[0;32m     <a href='vscode-notebook-cell:/d%3A/Dev/Gits/pytorch_Aterramento/Teste.ipynb#X11sZmlsZQ%3D%3D?line=11'>12</a>\u001b[0m x, y, z \u001b[39m=\u001b[39m FunPosicao1(tamanho_haste, passo, tamanho_maximo)\n\u001b[0;32m     <a href='vscode-notebook-cell:/d%3A/Dev/Gits/pytorch_Aterramento/Teste.ipynb#X11sZmlsZQ%3D%3D?line=12'>13</a>\u001b[0m K \u001b[39m=\u001b[39m (rho_2_camada \u001b[39m-\u001b[39m rho_1_camada) \u001b[39m/\u001b[39m (rho_2_camada \u001b[39m+\u001b[39m rho_1_camada)\n\u001b[1;32m---> <a href='vscode-notebook-cell:/d%3A/Dev/Gits/pytorch_Aterramento/Teste.ipynb#X11sZmlsZQ%3D%3D?line=13'>14</a>\u001b[0m tensao_solo \u001b[39m=\u001b[39m calculo_potencial(x, y, z, num_hastes, tamanho_haste, reflex, K, corrente_haste, posi_haste_x, posi_haste_y, profundidade_1_camada, rho_1_camada, h)\n\u001b[0;32m     <a href='vscode-notebook-cell:/d%3A/Dev/Gits/pytorch_Aterramento/Teste.ipynb#X11sZmlsZQ%3D%3D?line=14'>15</a>\u001b[0m tensao_superficial \u001b[39m=\u001b[39m calculo_superficial(x, y, z, tensao_solo, num_hastes)\n\u001b[0;32m     <a href='vscode-notebook-cell:/d%3A/Dev/Gits/pytorch_Aterramento/Teste.ipynb#X11sZmlsZQ%3D%3D?line=15'>16</a>\u001b[0m \u001b[39mreturn\u001b[39;00m tensao_superficial\n",
      "\u001b[1;32md:\\Dev\\Gits\\pytorch_Aterramento\\Teste.ipynb Célula 9\u001b[0m in \u001b[0;36m2\n\u001b[0;32m     <a href='vscode-notebook-cell:/d%3A/Dev/Gits/pytorch_Aterramento/Teste.ipynb#X11sZmlsZQ%3D%3D?line=25'>26</a>\u001b[0m           soma1\u001b[39m=\u001b[39msoma1\u001b[39m+\u001b[39mK\u001b[39m*\u001b[39m\u001b[39m*\u001b[39mcont\u001b[39m*\u001b[39m(f5\u001b[39m+\u001b[39mf6\u001b[39m+\u001b[39mf7\u001b[39m+\u001b[39mf8)\n\u001b[0;32m     <a href='vscode-notebook-cell:/d%3A/Dev/Gits/pytorch_Aterramento/Teste.ipynb#X11sZmlsZQ%3D%3D?line=26'>27</a>\u001b[0m           soma2\u001b[39m=\u001b[39msoma2\u001b[39m+\u001b[39mK\u001b[39m*\u001b[39m\u001b[39m*\u001b[39mcont\u001b[39m*\u001b[39m(f9\u001b[39m+\u001b[39mf10)\n\u001b[1;32m---> <a href='vscode-notebook-cell:/d%3A/Dev/Gits/pytorch_Aterramento/Teste.ipynb#X11sZmlsZQ%3D%3D?line=27'>28</a>\u001b[0m         tensao_gerada[i,j,k,l]\u001b[39m=\u001b[39m\u001b[39m1\u001b[39m\u001b[39m/\u001b[39m(\u001b[39m4\u001b[39m\u001b[39m*\u001b[39mnp\u001b[39m.\u001b[39mpi\u001b[39m*\u001b[39mProfundidade_Injetado_Haste)\u001b[39m*\u001b[39mRho_solo1\u001b[39m*\u001b[39mI[l]\u001b[39m*\u001b[39m(f1[i,j,k,l]\u001b[39m+\u001b[39mf2[i,j,k,l]\u001b[39m+\u001b[39m(\u001b[39m1\u001b[39m\u001b[39m+\u001b[39mK)\u001b[39m*\u001b[39m(f3[i,j,k,l]\u001b[39m+\u001b[39mf4[i,j,k,l])\u001b[39m+\u001b[39msoma1\u001b[39m+\u001b[39m(\u001b[39m1\u001b[39m\u001b[39m+\u001b[39mK)\u001b[39m*\u001b[39m(soma2))\n\u001b[0;32m     <a href='vscode-notebook-cell:/d%3A/Dev/Gits/pytorch_Aterramento/Teste.ipynb#X11sZmlsZQ%3D%3D?line=28'>29</a>\u001b[0m \u001b[39mreturn\u001b[39;00m tensao_gerada\n",
      "\u001b[1;31mValueError\u001b[0m: setting an array element with a sequence."
     ]
    }
   ],
   "source": [
    "time1 = time.time()\n",
    "valores1 = modelagem_duas_camadas(68.285, 1.285, 56.874, 1, 3, 50, 0, 0.1, 3, posi_haste_x, posi_haste_y, corrente_haste)\n",
    "tTime1 = (time.time() - time1)\n",
    "print(\"Tempo 1 haste: \" + str(tTime1))"
   ]
  },
  {
   "cell_type": "code",
   "execution_count": 13,
   "metadata": {},
   "outputs": [
    {
     "ename": "NameError",
     "evalue": "name 'valores1' is not defined",
     "output_type": "error",
     "traceback": [
      "\u001b[1;31m---------------------------------------------------------------------------\u001b[0m",
      "\u001b[1;31mNameError\u001b[0m                                 Traceback (most recent call last)",
      "\u001b[1;32md:\\Dev\\Gits\\pytorch_Aterramento\\Teste.ipynb Célula 10\u001b[0m in \u001b[0;36m1\n\u001b[1;32m----> <a href='vscode-notebook-cell:/d%3A/Dev/Gits/pytorch_Aterramento/Teste.ipynb#X12sZmlsZQ%3D%3D?line=0'>1</a>\u001b[0m np\u001b[39m.\u001b[39msavetxt(\u001b[39m'\u001b[39m\u001b[39mvalores1.csv\u001b[39m\u001b[39m'\u001b[39m, valores1)\n",
      "\u001b[1;31mNameError\u001b[0m: name 'valores1' is not defined"
     ]
    }
   ],
   "source": [
    "np.savetxt('valores1.csv', valores1)"
   ]
  },
  {
   "cell_type": "code",
   "execution_count": 11,
   "metadata": {},
   "outputs": [
    {
     "ename": "KeyboardInterrupt",
     "evalue": "",
     "output_type": "error",
     "traceback": [
      "\u001b[1;31m---------------------------------------------------------------------------\u001b[0m",
      "\u001b[1;31mKeyboardInterrupt\u001b[0m                         Traceback (most recent call last)",
      "\u001b[1;32md:\\Dev\\Gits\\pytorch_Aterramento\\Teste.ipynb Célula 11\u001b[0m in \u001b[0;36m2\n\u001b[0;32m      <a href='vscode-notebook-cell:/d%3A/Dev/Gits/pytorch_Aterramento/Teste.ipynb#X13sZmlsZQ%3D%3D?line=0'>1</a>\u001b[0m time2 \u001b[39m=\u001b[39m time\u001b[39m.\u001b[39mtime()\n\u001b[1;32m----> <a href='vscode-notebook-cell:/d%3A/Dev/Gits/pytorch_Aterramento/Teste.ipynb#X13sZmlsZQ%3D%3D?line=1'>2</a>\u001b[0m valores2 \u001b[39m=\u001b[39m modelagem_duas_camadas(\u001b[39m68.285\u001b[39;49m, \u001b[39m1.285\u001b[39;49m, \u001b[39m56.874\u001b[39;49m, \u001b[39m1\u001b[39;49m, \u001b[39m3\u001b[39;49m, \u001b[39m50\u001b[39;49m, \u001b[39m0\u001b[39;49m, \u001b[39m0.1\u001b[39;49m, \u001b[39m12\u001b[39;49m, posi_haste_x, posi_haste_y, corrente_haste)\n\u001b[0;32m      <a href='vscode-notebook-cell:/d%3A/Dev/Gits/pytorch_Aterramento/Teste.ipynb#X13sZmlsZQ%3D%3D?line=2'>3</a>\u001b[0m tTime2 \u001b[39m=\u001b[39m (time\u001b[39m.\u001b[39mtime() \u001b[39m-\u001b[39m time2)\n\u001b[0;32m      <a href='vscode-notebook-cell:/d%3A/Dev/Gits/pytorch_Aterramento/Teste.ipynb#X13sZmlsZQ%3D%3D?line=3'>4</a>\u001b[0m \u001b[39mprint\u001b[39m(\u001b[39m\"\u001b[39m\u001b[39mTempo 12 Hastes: \u001b[39m\u001b[39m\"\u001b[39m \u001b[39m+\u001b[39m \u001b[39mstr\u001b[39m(tTime2))\n",
      "\u001b[1;32md:\\Dev\\Gits\\pytorch_Aterramento\\Teste.ipynb Célula 11\u001b[0m in \u001b[0;36m1\n\u001b[0;32m     <a href='vscode-notebook-cell:/d%3A/Dev/Gits/pytorch_Aterramento/Teste.ipynb#X13sZmlsZQ%3D%3D?line=11'>12</a>\u001b[0m x, y, z \u001b[39m=\u001b[39m FunPosicao1(tamanho_haste, passo, tamanho_maximo)\n\u001b[0;32m     <a href='vscode-notebook-cell:/d%3A/Dev/Gits/pytorch_Aterramento/Teste.ipynb#X13sZmlsZQ%3D%3D?line=12'>13</a>\u001b[0m K \u001b[39m=\u001b[39m (rho_2_camada \u001b[39m-\u001b[39m rho_1_camada) \u001b[39m/\u001b[39m (rho_2_camada \u001b[39m+\u001b[39m rho_1_camada)\n\u001b[1;32m---> <a href='vscode-notebook-cell:/d%3A/Dev/Gits/pytorch_Aterramento/Teste.ipynb#X13sZmlsZQ%3D%3D?line=13'>14</a>\u001b[0m tensao_solo \u001b[39m=\u001b[39m calculo_potencial(x, y, z, num_hastes, tamanho_haste, reflex, K, corrente_haste, posi_haste_x, posi_haste_y, profundidade_1_camada, rho_1_camada, h)\n\u001b[0;32m     <a href='vscode-notebook-cell:/d%3A/Dev/Gits/pytorch_Aterramento/Teste.ipynb#X13sZmlsZQ%3D%3D?line=14'>15</a>\u001b[0m tensao_superficial \u001b[39m=\u001b[39m calculo_superficial(x, y, z, tensao_solo, num_hastes)\n\u001b[0;32m     <a href='vscode-notebook-cell:/d%3A/Dev/Gits/pytorch_Aterramento/Teste.ipynb#X13sZmlsZQ%3D%3D?line=15'>16</a>\u001b[0m \u001b[39mreturn\u001b[39;00m tensao_superficial\n",
      "\u001b[1;32md:\\Dev\\Gits\\pytorch_Aterramento\\Teste.ipynb Célula 11\u001b[0m in \u001b[0;36m2\n\u001b[0;32m     <a href='vscode-notebook-cell:/d%3A/Dev/Gits/pytorch_Aterramento/Teste.ipynb#X13sZmlsZQ%3D%3D?line=22'>23</a>\u001b[0m f8 \u001b[39m=\u001b[39m funF(\u001b[39m2\u001b[39m\u001b[39m*\u001b[39mcont\u001b[39m*\u001b[39mprofundidade_1_camada\u001b[39m-\u001b[39mh\u001b[39m+\u001b[39mz[k], \u001b[39m2\u001b[39m\u001b[39m*\u001b[39mcont\u001b[39m*\u001b[39mprofundidade_1_camada\u001b[39m-\u001b[39mprofundidade_1_camada\u001b[39m+\u001b[39mz[k], Az[i,j,k,l])\n\u001b[0;32m     <a href='vscode-notebook-cell:/d%3A/Dev/Gits/pytorch_Aterramento/Teste.ipynb#X13sZmlsZQ%3D%3D?line=23'>24</a>\u001b[0m f9 \u001b[39m=\u001b[39m funF(\u001b[39m2\u001b[39m\u001b[39m*\u001b[39mcont\u001b[39m*\u001b[39mprofundidade_1_camada\u001b[39m+\u001b[39mh\u001b[39m+\u001b[39mProfundidade_Injetado_Haste\u001b[39m-\u001b[39mz[k], \u001b[39m2\u001b[39m\u001b[39m*\u001b[39mcont\u001b[39m*\u001b[39mprofundidade_1_camada\u001b[39m+\u001b[39mprofundidade_1_camada\u001b[39m-\u001b[39mz[k], Az)\n\u001b[1;32m---> <a href='vscode-notebook-cell:/d%3A/Dev/Gits/pytorch_Aterramento/Teste.ipynb#X13sZmlsZQ%3D%3D?line=24'>25</a>\u001b[0m f10 \u001b[39m=\u001b[39m funF(\u001b[39m2\u001b[39;49m\u001b[39m*\u001b[39;49mcont\u001b[39m*\u001b[39;49mprofundidade_1_camada\u001b[39m+\u001b[39;49mh\u001b[39m+\u001b[39;49mProfundidade_Injetado_Haste\u001b[39m+\u001b[39;49mz[k], \u001b[39m2\u001b[39;49m\u001b[39m*\u001b[39;49mcont\u001b[39m*\u001b[39;49mprofundidade_1_camada\u001b[39m+\u001b[39;49mprofundidade_1_camada\u001b[39m+\u001b[39;49mz[k], Az)\n\u001b[0;32m     <a href='vscode-notebook-cell:/d%3A/Dev/Gits/pytorch_Aterramento/Teste.ipynb#X13sZmlsZQ%3D%3D?line=25'>26</a>\u001b[0m soma1\u001b[39m=\u001b[39msoma1\u001b[39m+\u001b[39mK\u001b[39m*\u001b[39m\u001b[39m*\u001b[39mcont\u001b[39m*\u001b[39m(f5\u001b[39m+\u001b[39mf6\u001b[39m+\u001b[39mf7\u001b[39m+\u001b[39mf8)\n\u001b[0;32m     <a href='vscode-notebook-cell:/d%3A/Dev/Gits/pytorch_Aterramento/Teste.ipynb#X13sZmlsZQ%3D%3D?line=26'>27</a>\u001b[0m soma2\u001b[39m=\u001b[39msoma2\u001b[39m+\u001b[39mK\u001b[39m*\u001b[39m\u001b[39m*\u001b[39mcont\u001b[39m*\u001b[39m(f9\u001b[39m+\u001b[39mf10)\n",
      "\u001b[1;32md:\\Dev\\Gits\\pytorch_Aterramento\\Teste.ipynb Célula 11\u001b[0m in \u001b[0;36m2\n\u001b[0;32m      <a href='vscode-notebook-cell:/d%3A/Dev/Gits/pytorch_Aterramento/Teste.ipynb#X13sZmlsZQ%3D%3D?line=0'>1</a>\u001b[0m \u001b[39mdef\u001b[39;00m \u001b[39mfunF\u001b[39m(u1, u2, A):\n\u001b[1;32m----> <a href='vscode-notebook-cell:/d%3A/Dev/Gits/pytorch_Aterramento/Teste.ipynb#X13sZmlsZQ%3D%3D?line=1'>2</a>\u001b[0m   \u001b[39mreturn\u001b[39;00m np\u001b[39m.\u001b[39mlog((u1 \u001b[39m+\u001b[39m (np\u001b[39m.\u001b[39msqrt((u1)\u001b[39m*\u001b[39m\u001b[39m*\u001b[39m\u001b[39m2\u001b[39m \u001b[39m+\u001b[39m(A)\u001b[39m*\u001b[39m\u001b[39m*\u001b[39m\u001b[39m2\u001b[39m)))\u001b[39m/\u001b[39m(u2 \u001b[39m+\u001b[39m (np\u001b[39m.\u001b[39;49msqrt((u2)\u001b[39m*\u001b[39;49m\u001b[39m*\u001b[39;49m\u001b[39m2\u001b[39;49m\u001b[39m+\u001b[39;49m(A)\u001b[39m*\u001b[39;49m\u001b[39m*\u001b[39;49m\u001b[39m2\u001b[39;49m))))\n",
      "\u001b[1;31mKeyboardInterrupt\u001b[0m: "
     ]
    }
   ],
   "source": [
    "time2 = time.time()\n",
    "valores2 = modelagem_duas_camadas(68.285, 1.285, 56.874, 1, 3, 50, 0, 0.1, 12, posi_haste_x, posi_haste_y, corrente_haste)\n",
    "tTime2 = (time.time() - time2)\n",
    "print(\"Tempo 12 Hastes: \" + str(tTime2))"
   ]
  },
  {
   "cell_type": "code",
   "execution_count": null,
   "metadata": {},
   "outputs": [],
   "source": [
    "np.savetxt('valores2.csv', valores2)"
   ]
  },
  {
   "cell_type": "code",
   "execution_count": null,
   "metadata": {},
   "outputs": [],
   "source": []
  }
 ],
 "metadata": {
  "kernelspec": {
   "display_name": "Leonardo",
   "language": "python",
   "name": "python3"
  },
  "language_info": {
   "codemirror_mode": {
    "name": "ipython",
    "version": 3
   },
   "file_extension": ".py",
   "mimetype": "text/x-python",
   "name": "python",
   "nbconvert_exporter": "python",
   "pygments_lexer": "ipython3",
   "version": "3.10.7"
  },
  "orig_nbformat": 4
 },
 "nbformat": 4,
 "nbformat_minor": 2
}
